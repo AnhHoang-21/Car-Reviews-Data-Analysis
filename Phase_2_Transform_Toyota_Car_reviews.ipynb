{
  "nbformat": 4,
  "nbformat_minor": 0,
  "metadata": {
    "colab": {
      "provenance": []
    },
    "kernelspec": {
      "name": "python3",
      "display_name": "Python 3"
    },
    "language_info": {
      "name": "python"
    }
  },
  "cells": [
    {
      "cell_type": "code",
      "execution_count": 193,
      "metadata": {
        "id": "GHayZKebkgj5"
      },
      "outputs": [],
      "source": [
        "# Import packages\n",
        "import pandas as pd\n",
        "import numpy as np\n",
        "import re"
      ]
    },
    {
      "cell_type": "code",
      "source": [
        "# Read the CSV file\n",
        "csv_file = 'Phase1 - Cleaned Data after using Excel.csv'\n",
        "df = pd.read_csv(csv_file)"
      ],
      "metadata": {
        "id": "z4NF_kvekkJe"
      },
      "execution_count": 194,
      "outputs": []
    },
    {
      "cell_type": "code",
      "source": [
        "import re\n",
        "\n",
        "# Define a function to extract details from the Vehicle_Title column\n",
        "def extract_vehicle_details(title):\n",
        "    # Check for specific models directly\n",
        "    if \"C-HR\" in title:\n",
        "        model = \"C-HR\"\n",
        "    elif \"Land Cruiser\" in title:\n",
        "        model = \"Land Cruiser\"\n",
        "    else:\n",
        "        # Use regex for other models if not matched by specific conditions\n",
        "        model_match = re.search(r'\\b(?:Toyota\\s+[A-Za-z]+|86|RAV4|4Runner|MR2|T100|Previa|Avalon|Tacoma|Sienna|Highlander|ECHO|Prius|Corolla|Supra|Camry|FJ|Sequoia|Tercel|Yaris|Mirai|Venza|Paseo|Matrix|Tundra|Celica)\\b', title, re.IGNORECASE)\n",
        "        model = model_match.group() if model_match else None\n",
        "\n",
        "    # Regular expressions for other components\n",
        "    year_made = re.search(r'\\b(19|20)\\d{2}\\b', title)\n",
        "    body_type = re.search(r'\\b(?:[A-Za-z]*cab)\\b|\\b(Minivan|Sedan|SUV|Hatchback|Truck|Coupe|Convertible|Van|Wagon|Pickup)\\b', title, re.IGNORECASE)\n",
        "    if body_type:\n",
        "        body_type = \"Cab\" if body_type.group().lower().endswith(\"cab\") else body_type.group()\n",
        "\n",
        "    # Removed the version extraction\n",
        "\n",
        "    doors = re.search(r'\\b(\\d)dr\\b', title)\n",
        "    engine = re.search(r'\\((.*?)\\)', title)  # Capture content within parentheses\n",
        "\n",
        "    # Extract values or set as None if not found\n",
        "    details = {\n",
        "        \"year_made\": year_made.group() if year_made else None,\n",
        "        \"Model\": model,\n",
        "        \"body_type\": body_type if body_type else None,\n",
        "        \"doors\": doors.group(1) if doors else None,\n",
        "        \"engine\": engine.group() if engine else None\n",
        "    }\n",
        "    return details\n",
        "\n",
        "# Apply the function to extract details from each row in Vehicle_Title\n",
        "vehicle_details = df['Vehicle_Title'].apply(extract_vehicle_details)\n",
        "vehicle_details_df = pd.DataFrame(vehicle_details.tolist())\n",
        "\n",
        "# Concatenate with original data to check the results\n",
        "extracted_data = pd.concat([df, vehicle_details_df], axis=1)\n"
      ],
      "metadata": {
        "id": "LoWbUNedW_vV"
      },
      "execution_count": 195,
      "outputs": []
    },
    {
      "cell_type": "code",
      "source": [
        "# Remove the word 'Toyota' from the 'Model' column if present\n",
        "extracted_data['Model'] = extracted_data['Model'].str.replace(r'\\bToyota\\b\\s*', '', regex=True)"
      ],
      "metadata": {
        "id": "yQo70LyMZ52n"
      },
      "execution_count": 189,
      "outputs": []
    },
    {
      "cell_type": "code",
      "source": [
        "#Quickly checking distinct values in a column\n",
        "unique_values = extracted_data['Model'].unique()\n",
        "print(unique_values)"
      ],
      "metadata": {
        "colab": {
          "base_uri": "https://localhost:8080/"
        },
        "id": "th1EVflTHG5e",
        "outputId": "2205df12-015a-4af2-c79e-510fc8b7b711"
      },
      "execution_count": 190,
      "outputs": [
        {
          "output_type": "stream",
          "name": "stdout",
          "text": [
            "['Previa' 'Avalon' 'Tacoma' 'RAV4' 'Sienna' '86' 'Highlander' 'ECHO'\n",
            " 'Prius' 'Corolla' 'Supra' 'Camry' 'FJ' 'Sequoia' 'C-HR' 'Land Cruiser'\n",
            " 'Tercel' '4Runner' 'Yaris' 'Mirai' 'Venza' 'Paseo' 'Matrix' 'MR2' 'T100'\n",
            " 'Tundra' 'Celica']\n"
          ]
        }
      ]
    },
    {
      "cell_type": "code",
      "source": [
        "# Extract car version details\n",
        "def extract_version_if_else(title):\n",
        "    # Define possible body types and door patterns\n",
        "    body_types = [\"Minivan\", \"Sedan\", \"SUV\", \"Hatchback\", \"Truck\", \"Coupe\", \"Convertible\", \"Van\", \"Wagon\", \"Pickup\",\"Access Cab\",\"Double Cab\",\"Regular Cab\",\"Extended Cab\",\"Cab\"]\n",
        "    door_patterns = [\"2dr\", \"3dr\", \"4dr\"]\n",
        "\n",
        "    # Initialize placeholders\n",
        "    body_type_pos = None\n",
        "    door_pos = None\n",
        "    version = None\n",
        "\n",
        "    # Find the first occurrence of any body type\n",
        "    for body_type in body_types:\n",
        "        if body_type in title:\n",
        "            body_type_pos = title.find(body_type) + len(body_type)\n",
        "            break\n",
        "\n",
        "    # Find the first occurrence of any door pattern\n",
        "    for door in door_patterns:\n",
        "        if door in title:\n",
        "            door_pos = title.find(door)\n",
        "            break\n",
        "\n",
        "    # If both positions are found, extract the text in between\n",
        "    if body_type_pos is not None and door_pos is not None and body_type_pos < door_pos:\n",
        "        version = title[body_type_pos:door_pos].strip()\n",
        "\n",
        "    return version\n",
        "\n",
        "# Apply the function to create a new 'Version' column in the DataFrame\n",
        "extracted_data['Version'] = extracted_data['Vehicle_Title'].apply(extract_version_if_else)\n",
        "\n"
      ],
      "metadata": {
        "id": "l6h1D8yCNG6O"
      },
      "execution_count": 191,
      "outputs": []
    },
    {
      "cell_type": "code",
      "source": [
        "#Saving the dataset\n",
        "extracted_data.to_csv('Transformed_data.csv', index=False)"
      ],
      "metadata": {
        "id": "BvaNTGjCdtDs"
      },
      "execution_count": 192,
      "outputs": []
    }
  ]
}